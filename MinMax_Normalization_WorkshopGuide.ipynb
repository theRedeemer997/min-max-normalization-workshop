{
  "cells": [
    {
      "cell_type": "markdown",
      "metadata": {},
      "source": [
        "# 🛠️ Active Learning Workshop: Code Review on Min-Max Normalization (Jupyter + GitHub Edition)\n",
        "## 🔍 Workshop Theme\n",
        "*Readable, correct, and collaboratively reviewed code—just like in the real world.*\n",
        "\n",
        "## 🧠 Learning Objectives\n",
        "- Apply **Min-Max normalization** to real-world data during the EDA process.\n",
        "- Build **Jupyter Notebooks** with well-structured code and clear Markdown documentation.\n",
        "- Use **Git and GitHub** for collaborative version control and code sharing.\n",
        "- Identify and articulate coding issues (\"**talking points**\") and insert them directly into peer notebooks.\n",
        "- Practice **collaborative debugging**, professional peer feedback, and improve code quality.\n",
        "\n",
        "## 🧩 Workshop Structure (90 Minutes)\n",
        "1. **Instructor Use Case Introduction** *(5 min)* – Set up teams of 3 people. Discuss real estate dataset and scaling rationale, plus submission instructions\n",
        "2. **Team Jupyter Notebook Development** *(25 min)* – Manual Min-Max coding + Markdown documentation (work as teams)\n",
        "3. **Push to GitHub** *(5 min)* – Teams commit and push initial notebooks. **Make sure to include your names so it is easy to identify the team that developed the Min-Max code**.\n",
        "4. **Peer Review Round** *(15 min)* – Review the other team’s code and add a talking point (the most relevant one you can find). **Make sure to add your names so it is easy to identify the team that made the review**. You can follow the template included in **MinMax_Normalization_Workshop.ipynb**\n",
        "5. **Instructor Review** - The instructor will go around, take notes, and provide coaching as needed, during the **Peer Review Round**\n",
        "6. **Group Share-out** *(35 min)* – Each team presents the talking point about the other team's Min-Max code.\n",
        "7. **Instructor Wrap-up** *(5 min)* – Highlight good practices, reflect on peer feedback.\n",
        "\n",
        "## 📝 Talking Points – Student Guidelines\n",
        "Each group must insert **one talking point** into the notebook as **Markdown cells**, clearly labeled, for example:\n",
        "```markdown\n",
        "### 🔎 Talking Point 1 — Redundant computation\n",
        "This code calculates `max(data)` in each iteration. It should be moved outside the loop.\n",
        "```\n",
        "- Point out a real issue\n",
        "- Explain **why** it matters (e.g., correctness, performance, readability)\n",
        "- Suggest a **solution** or improvement\n",
        "\n",
        "## 🧪 Dataset Example – Housing & Real Estate\n",
        "**File:** `housing_data.csv`\n",
        "\n",
        "| Column Name       | Description                                       |\n",
        "|-------------------|---------------------------------------------------|\n",
        "| `House_ID`        | Unique identifier for each house                  |\n",
        "| `Price`           | Market price of the house (CAD)                   |\n",
        "| `Area_sqft`       | Size of the house in square feet                  |\n",
        "| `Num_Bedrooms`    | Number of bedrooms                                |\n",
        "| `Num_Bathrooms`   | Number of bathrooms                               |\n",
        "| `Year_Built`      | Year the house was built                          |\n",
        "| `Lot_Size`        | Size of the property lot in square feet           |\n",
        "\n",
        "## 💻 Submission Checklist\n",
        "- ✅ `normalization_workshop.ipynb` with:\n",
        "  - Min-Max normalization code\n",
        "  - Markdown explanations for each major step\n",
        "  - **One labeled talking point** from the peer reviewing team\n",
        "- ✅ `README.md` with:\n",
        "  - Dataset description\n",
        "  - Team member names\n",
        "  - Link to the dataset and license (if public)\n",
        "- ✅ GitHub Repo:\n",
        "  - Public repo named `min-max-normalization-workshop`\n",
        "  - This is a group effort, so **choose one member of the team** to publish the repo\n",
        "  - At least **one commit containing one meaningful talking point**"
      ]
    }
  ],
  "metadata": {
    "kernelspec": {
      "display_name": "Python 3",
      "language": "python",
      "name": "python3"
    },
    "language_info": {
      "name": "python"
    }
  },
  "nbformat": 4,
  "nbformat_minor": 2
}
